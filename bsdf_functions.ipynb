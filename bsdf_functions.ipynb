{
 "cells": [
  {
   "cell_type": "code",
   "execution_count": null,
   "metadata": {},
   "outputs": [],
   "source": [
    "%matplotlib widget\n",
    "import matplotlib.pyplot as plt\n",
    "import math\n",
    "import random"
   ]
  },
  {
   "cell_type": "markdown",
   "metadata": {},
   "source": [
    "# FRESNEL"
   ]
  },
  {
   "cell_type": "markdown",
   "metadata": {},
   "source": [
    "- An Inexpensive BRDF Model for Physically-based Rendering - Christophe Schlick\n",
    "- depending on needs the function can be tailored to more accurate calculations\n",
    "- using here a very computational inexpensive solution"
   ]
  },
  {
   "cell_type": "code",
   "execution_count": null,
   "metadata": {},
   "outputs": [],
   "source": [
    "def schlickFresnel(cosine: float, ior: float) -> float:\n",
    "    r0 = (1-ior) / (1+ior)\n",
    "    r0 = r0*r0\n",
    "    return r0 + (1-r0)*(1-cosine)**5"
   ]
  },
  {
   "cell_type": "code",
   "execution_count": null,
   "metadata": {},
   "outputs": [],
   "source": [
    "def dielectricFresnel(cosine: float, ior: float) -> float:\n",
    "    costhetaI = cosine\n",
    "\n",
    "    if costhetaI < 0:\n",
    "        costhetaI = -costhetaI\n",
    "        ior = 1 / ior\n",
    "\n",
    "    sin2thetaI = (1 - costhetaI * costhetaI)\n",
    "    sin2thetaT = sin2thetaI / (ior*ior)\n",
    "\n",
    "    if sin2thetaT > 1:\n",
    "        return 1\n",
    "\n",
    "    cos2thetaT = math.sqrt(1 - sin2thetaT)\n",
    "    rp = (costhetaI - ior * cos2thetaT) / (costhetaI + ior * cos2thetaT)\n",
    "    rs = (ior * costhetaI - cos2thetaT) / (ior * costhetaI + cos2thetaT)\n",
    "\n",
    "    return 0.5 * (rp * rp + rs * rs)\n"
   ]
  },
  {
   "cell_type": "code",
   "execution_count": null,
   "metadata": {},
   "outputs": [],
   "source": [
    "angleMax = int(math.degrees(math.pi / 2))\n",
    "angles = [math.radians(i) for i in range(0, angleMax)]\n",
    "\n",
    "sFresnel = [schlickFresnel(math.cos(i), 1.02) for i in angles]\n",
    "dFresnel = [dielectricFresnel(math.cos(i), 1.02) for i in angles]\n",
    "\n",
    "x = [angles]\n",
    "f = [sFresnel, dFresnel]\n",
    "labels=[\"Schlick\", \"Dielectric\"]\n"
   ]
  },
  {
   "cell_type": "code",
   "execution_count": null,
   "metadata": {},
   "outputs": [],
   "source": [
    "fig = plt.figure(figsize=(10, 10))\n",
    "ax = fig.add_subplot(aspect='equal', adjustable='box')\n",
    "ax.set_title(\"Schlick's approximation\")\n",
    "ax.set_xlabel(\"Angle\")\n",
    "ax.set_ylabel(\"Fresnel\")\n",
    "\n",
    "for i in range(len(f)):\n",
    "    ax.plot(x[0], f[i], linewidth=1, label=labels[i])\n",
    "\n",
    "ax.legend()\n",
    "ax.autoscale(enable=True, axis='x', tight=False)\n",
    "ax.autoscale(enable=True, axis='y', tight=False)\n",
    "plt.show()"
   ]
  },
  {
   "cell_type": "markdown",
   "metadata": {},
   "source": [
    "# GENERALIZED-TROWBRIDGE-REITZ"
   ]
  },
  {
   "cell_type": "markdown",
   "metadata": {},
   "source": [
    "- Disney BRDF notes 2012 - Burley\n",
    "- has long tails and short peaks in the distribution curve\n",
    "- allows for normalisation and importance sampling\n",
    "- Disney uses two fix specular lobes with gamma = [1, 2]\n",
    "- alpha = roughness^2 result in better linearity"
   ]
  },
  {
   "cell_type": "code",
   "execution_count": null,
   "metadata": {},
   "outputs": [],
   "source": [
    "def roughnessToAlpha(roughness: float) -> float:\n",
    "    r: float = roughness * roughness\n",
    "    if r < 1e-4:\n",
    "        return 1e-4\n",
    "    return r"
   ]
  },
  {
   "cell_type": "code",
   "execution_count": null,
   "metadata": {},
   "outputs": [],
   "source": [
    "# theta in radians, roughness to alpha\n",
    "def gtr(thetaH: float, alpha: float, gamma: int) -> float:\n",
    "    costhetaH: float = math.cos(thetaH)\n",
    "    sinthetaH: float = math.sin(thetaH)\n",
    "    alpha2: float = alpha * alpha\n",
    "    return 1 / (alpha2 * costhetaH * costhetaH + sinthetaH * sinthetaH)**gamma"
   ]
  },
  {
   "cell_type": "code",
   "execution_count": null,
   "metadata": {},
   "outputs": [],
   "source": [
    "# theta in radians, roughness to alpha\n",
    "# derived from gtr\n",
    "def gtr1(thetaH: float, alpha: float) -> float:\n",
    "    if alpha >= 1:\n",
    "        return 1 / math.pi\n",
    "    cosThetaH = math.cos(thetaH)\n",
    "    alpha2: float = alpha * alpha\n",
    "    t: float = 1 + (alpha2 - 1) * cosThetaH * cosThetaH\n",
    "    return (alpha2 - 1) / (math.pi * math.log(alpha2) * t) \n"
   ]
  },
  {
   "cell_type": "code",
   "execution_count": null,
   "metadata": {},
   "outputs": [],
   "source": [
    "# theta in radians, roughness to alpha\n",
    "# derived from gtr\n",
    "def gtr2(thetaH: float, alpha: float) -> float:\n",
    "    cosThetaH = math.cos(thetaH)\n",
    "    alpha2: float = alpha * alpha\n",
    "    t: float = 1 + (alpha2 - 1) * cosThetaH * cosThetaH\n",
    "    return alpha2 / (math.pi * t * t)"
   ]
  },
  {
   "cell_type": "code",
   "execution_count": null,
   "metadata": {},
   "outputs": [],
   "source": [
    "def normalDistribution(x: list) -> list:\n",
    "    return [i / max(x) for i in x]"
   ]
  },
  {
   "cell_type": "code",
   "execution_count": null,
   "metadata": {},
   "outputs": [],
   "source": [
    "# list comprehension fill list with values\n",
    "ALPHA_MIN = 1e-4\n",
    "ALPHA_MAX = 1\n",
    "alpha = 0.2\n",
    "\n",
    "thetasdeg = [i / 3 for i in range(0, int(math.degrees(math.pi / 2) + 1)) ]\n",
    "thetas = [math.radians(i) for i in thetasdeg]\n",
    "\n",
    "dist1 = [gtr1(t, alpha) for t in thetas]\n",
    "dist2 = [gtr2(t, alpha) for t in thetas]\n",
    "dist10 = [gtr(t, alpha, 10) for t in thetas]\n",
    "\n",
    "dist1 = normalDistribution(dist1)\n",
    "dist2 = normalDistribution(dist2)\n",
    "dist10 = normalDistribution(dist10)\n",
    "\n",
    "x = [thetas]\n",
    "f = [dist1, dist2, dist10]\n",
    "labels=[\"gtr1\", \"gtr2\", \"gtr10\"]\n"
   ]
  },
  {
   "cell_type": "code",
   "execution_count": null,
   "metadata": {},
   "outputs": [],
   "source": [
    "fig = plt.figure(figsize=(10, 10))\n",
    "ax = fig.add_subplot(adjustable='box')\n",
    "ax.set_title(\"Distributions\")\n",
    "ax.set_xlabel(\"Angle\")\n",
    "ax.set_ylabel(\"Fresnel\")\n",
    "\n",
    "for i in range(len(f)):\n",
    "    ax.plot(x[0], f[i], linewidth=1, label=labels[i])\n",
    "\n",
    "ax.legend()\n",
    "ax.autoscale(enable=True, axis='x', tight=False)\n",
    "ax.autoscale(enable=True, axis='y', tight=False)\n",
    "plt.show()"
   ]
  },
  {
   "cell_type": "code",
   "execution_count": null,
   "metadata": {},
   "outputs": [],
   "source": [
    "def toSphereCoordinates(sinTheta: float, cosTheta: float, phi : float) -> tuple[float, float, float]:\n",
    "\tx: float = sinTheta * math.cos(phi)\n",
    "\ty: float = sinTheta * math.sin(phi)\n",
    "\tz: float = cosTheta\n",
    "\treturn (x, y, z) "
   ]
  },
  {
   "cell_type": "code",
   "execution_count": null,
   "metadata": {},
   "outputs": [],
   "source": [
    "def sampleGTR2(cosTheta:float, alpha: float, u: tuple[float, float]) -> tuple[float, float, float]:\n",
    "\talpha2: float = alpha * alpha\n",
    "\tphi = (2 * math.pi) * u[0]\n",
    "\tcosTheta: float = math.sqrt((1.0 - u[1]) / (1.0 + (alpha2 - 1.0) * u[1])) \n",
    "\tsinTheta: float = math.sqrt(max(0.0, 1.0 - cosTheta * cosTheta)) \n",
    "\treturn toSphereCoordinates(sinTheta, cosTheta, phi)"
   ]
  },
  {
   "cell_type": "code",
   "execution_count": null,
   "metadata": {},
   "outputs": [],
   "source": [
    "# list comprehension fill list with values\n",
    "ALPHA_MIN = 1e-4\n",
    "ALPHA_MAX = 1\n",
    "ALPHA_MID = 0.5\n",
    "\n",
    "thetasdeg = [i / 3 for i in range(0, int(math.degrees(math.pi / 2) + 1)) ]\n",
    "thetas = [math.radians(i) for i in thetasdeg]\n",
    "\n",
    "a1 = []\n",
    "a2 = []\n",
    "a3 = []\n",
    "for n in range(100):\n",
    "    a1 += [sampleGTR2(t, ALPHA_MIN, (random.random(),random.random())) for t in thetas]\n",
    "    a2 += [sampleGTR2(t, ALPHA_MAX, (random.random(),random.random())) for t in thetas]\n",
    "    a3 += [sampleGTR2(t, ALPHA_MID, (random.random(),random.random())) for t in thetas]\n",
    "\n",
    "a1x, a1y, a1z = zip(*a1)\n",
    "a2x, a2y, a2z = zip(*a2)\n",
    "a3x, a3y, a3z = zip(*a3)\n",
    "\n",
    "x = [a1x, a2x, a3x]\n",
    "y = [a1y, a2y, a3y]\n",
    "z = [a1z, a2z, a3z]\n",
    "labels=[\"ALPHA_MIN\", \"ALPHA_MAX\", \"ALPHA_MID\"]\n",
    "colors = [\"#fd084a\", \"#494fc1\", \"#a0fefb\"]\n",
    "size = [10, .1, .1]"
   ]
  },
  {
   "cell_type": "code",
   "execution_count": null,
   "metadata": {},
   "outputs": [],
   "source": [
    "fig = plt.figure(figsize=(10, 10))\n",
    "\n",
    "ax = fig.add_subplot(projection='3d')\n",
    "ax.set_title(\"GTR Sampling\")\n",
    "ax.auto_scale_xyz(x, y, z, 'equal')\n",
    "\n",
    "for i in range(len(x)):\n",
    "    k = [p * size[i] for p in z[i]]\n",
    "    ax.scatter(x[i], y[i], z[i], s=k, label=labels[i], color=colors[i])\n",
    "    ax.legend()\n",
    "    ax.autoscale(enable=True, axis='x', tight=False)\n",
    "    ax.autoscale(enable=True, axis='y', tight=False)\n",
    "\n",
    "plt.show()"
   ]
  },
  {
   "cell_type": "markdown",
   "metadata": {},
   "source": [
    "# MASKING-SHADOWING FUNCTION"
   ]
  },
  {
   "cell_type": "markdown",
   "metadata": {},
   "source": [
    "- Microfacet Models for Refraction through Rough Surfaces - Bruce Walter\n",
    "- term is for single-scattering accurate and correct\n",
    "- newer version which got adopted in 2014 revision\n",
    "- **NOTE:** this term is not energy conserving for multi-scattering events"
   ]
  },
  {
   "cell_type": "code",
   "execution_count": null,
   "metadata": {},
   "outputs": [],
   "source": [
    "# lambda term which is modeling shadowing and masking\n",
    "def lambd(thetaH: float, alpha: float) -> float:\n",
    "    absTanThetaH: float = abs(math.tan(thetaH))\n",
    "    if math.isinf(absTanThetaH):\n",
    "        return 0\n",
    "    alpha2Tan2Theta: float = (alpha * absTanThetaH) * (alpha * absTanThetaH)\n",
    "    return (-1 + math.sqrt(1.0 + alpha2Tan2Theta)) / 2.0"
   ]
  },
  {
   "cell_type": "code",
   "execution_count": null,
   "metadata": {},
   "outputs": [],
   "source": [
    "# geometric term for a theta and alpha\n",
    "def smithG(thetaH: float, alphaG: float) -> float:\n",
    "    return 1 / (1 + lambd(thetaH, alphaG))"
   ]
  },
  {
   "cell_type": "code",
   "execution_count": null,
   "metadata": {},
   "outputs": [],
   "source": [
    "total = math.pi\n",
    "offset = total / 2 \n",
    "\n",
    "thetas = [math.radians(i - math.degrees(offset)) for i in range(0, int(math.degrees(total)))]\n",
    "\n",
    "shadowing05 = [smithG(i, 0.05) for i in thetas]\n",
    "shadowing25 = [smithG(i, 0.25) for i in thetas]\n",
    "shadowing75 = [smithG(i, 0.75) for i in thetas]\n",
    "\n",
    "x = [thetas]\n",
    "f = [shadowing05, shadowing25, shadowing75]\n",
    "labels=[\"a=0.05\", \"a=0.25\", \"a=0.75\"]"
   ]
  },
  {
   "cell_type": "code",
   "execution_count": null,
   "metadata": {},
   "outputs": [],
   "source": [
    "fig = plt.figure(figsize=(10, 10))\n",
    "ax = fig.add_subplot(aspect='equal', adjustable='box')\n",
    "ax.set_title(\"Geometric Term\")\n",
    "ax.set_xlabel(\"Angle\")\n",
    "ax.set_ylabel(\"SmithG\")\n",
    "\n",
    "for i in range(len(f)):\n",
    "    ax.plot(x[0], f[i], linewidth=1, label=labels[i])\n",
    "\n",
    "ax.legend()\n",
    "ax.autoscale(enable=True, axis='x', tight=False)\n",
    "ax.autoscale(enable=True, axis='y', tight=False)\n",
    "plt.show()"
   ]
  },
  {
   "cell_type": "markdown",
   "metadata": {},
   "source": [
    "# SAMPLING"
   ]
  },
  {
   "cell_type": "markdown",
   "metadata": {},
   "source": [
    "## DISKS"
   ]
  },
  {
   "cell_type": "code",
   "execution_count": null,
   "metadata": {},
   "outputs": [],
   "source": [
    "def sampleConcentricDisk(u: tuple[float, float]) -> tuple[float, float]:\n",
    "    dx = 2.0 * u[0] - 1.0\n",
    "    dy = 2.0 * u[1] - 1.0\n",
    "\n",
    "    if dx == 0 and dy == 0:\n",
    "        return (0, 0)\n",
    "\n",
    "    phi = 0\n",
    "    r = 0\n",
    "\n",
    "    if abs(dx) > abs(dy):\n",
    "        r = dx\n",
    "        phi = (math.pi / 4) * (dy / dx)\n",
    "    else:\n",
    "        r = dy\n",
    "        phi = (math.pi / 2) - (dx / dy) * (math.pi / 4)\n",
    "    \n",
    "    return (r * math.cos(phi), r * math.sin(phi))"
   ]
  },
  {
   "cell_type": "code",
   "execution_count": null,
   "metadata": {},
   "outputs": [],
   "source": [
    "def sampleUniformDisk(u: tuple[float, float]) -> tuple[float, float]:\n",
    "    phi = 2 * math.pi * u[1]\n",
    "    r = math.sqrt(u[0])\n",
    "    return (r * math.cos(phi), r * math.sin(phi))"
   ]
  },
  {
   "cell_type": "code",
   "execution_count": null,
   "metadata": {},
   "outputs": [],
   "source": [
    "samples = 10000\n",
    "pointsUniform = []\n",
    "pointsCosine = []\n",
    "\n",
    "for i in range(0, samples):\n",
    "    u = (random.random(), random.random())\n",
    "    pointsUniform.append(sampleUniformDisk(u))\n",
    "for i in range(0, samples):\n",
    "    u = (random.random(), random.random())\n",
    "    pointsCosine.append(sampleConcentricDisk(u))\n",
    "\n",
    "ux, uy = zip(*pointsUniform)\n",
    "cx, cy = zip(*pointsCosine)\n",
    "\n",
    "x = [ux, cx]\n",
    "y = [uy, cy]\n",
    "labels=[\"Uniform\", \"Cosine\"]"
   ]
  },
  {
   "cell_type": "code",
   "execution_count": null,
   "metadata": {},
   "outputs": [],
   "source": [
    "fig = plt.figure(figsize=(10, 10))\n",
    "ax = fig.add_subplot(aspect='equal', adjustable='box')\n",
    "ax.set_title(\"Disk Samples\")\n",
    "\n",
    "for i in range(len(y)):\n",
    "    ax.scatter(x[i], y[i], s=.5, label=labels[i])\n",
    "\n",
    "ax.legend()\n",
    "ax.autoscale(enable=True, axis='x', tight=False)\n",
    "ax.autoscale(enable=True, axis='y', tight=False)\n",
    "plt.show()"
   ]
  },
  {
   "cell_type": "markdown",
   "metadata": {},
   "source": [
    "## HEMISPHERES"
   ]
  },
  {
   "cell_type": "code",
   "execution_count": null,
   "metadata": {},
   "outputs": [],
   "source": [
    "def sampleUniformHemisphere(u: tuple[float, float]) -> tuple[float, float, float]:\n",
    "    z = u[0]\n",
    "    r = math.sqrt(max(0.0, 1.0 - z * z))\n",
    "    phi = 2.0 * math.pi * u[1]\n",
    "    x = r * math.cos(phi)\n",
    "    y = r * math.sin(phi)\n",
    "    return (x, y, z)\n",
    "\n",
    "def pdfUniformHemisphere(p: tuple[float, float, float]) -> float:\n",
    "    return 1.0 / (2.0 * math.pi)"
   ]
  },
  {
   "cell_type": "code",
   "execution_count": null,
   "metadata": {},
   "outputs": [],
   "source": [
    "def sampleCosineHemisphere(u: tuple[float, float]) -> tuple[float, float, float]:\n",
    "    p = sampleConcentricDisk(u)\n",
    "    costheta = math.sqrt(max(0.0, 1 - p[0] * p[0] - p[1] * p[1]))\n",
    "    return (p[0], p[1], costheta)\n",
    "    \n",
    "def pdfCosineHemisphere(p: tuple[float, float, float]) -> float:\n",
    "    return abs(p[2]) * (1.0 / math.pi)"
   ]
  },
  {
   "cell_type": "code",
   "execution_count": null,
   "metadata": {},
   "outputs": [],
   "source": [
    "samples = 10000\n",
    "pointsUniform = []\n",
    "pointsCosine = []\n",
    "\n",
    "for i in range(0, samples):\n",
    "    u = (random.random(), random.random())\n",
    "    pointsUniform.append(sampleUniformHemisphere(u))\n",
    "    pointsCosine.append(sampleCosineHemisphere(u))\n",
    "\n",
    "ux, uy, uz = zip(*pointsUniform)\n",
    "cx, cy, cz = zip(*pointsCosine)\n",
    "updf = [pdfUniformHemisphere(i) for i in pointsUniform]\n",
    "cpdf = [pdfCosineHemisphere(i) for i in pointsCosine]\n",
    "\n",
    "x = [ux, cx]\n",
    "y = [uy, cy]\n",
    "z = [uz, cz]\n",
    "pdf = [updf, cpdf]\n",
    "labels=[\"Uniform\", \"Cosine\"]\n"
   ]
  },
  {
   "cell_type": "code",
   "execution_count": null,
   "metadata": {},
   "outputs": [],
   "source": [
    "fig = plt.figure(figsize=(10, 10))\n",
    "\n",
    "ax = fig.add_subplot(projection='3d')\n",
    "ax.set_title(\"Hemisphere Samples\")\n",
    "ax.auto_scale_xyz(x, y, z, 'equal')\n",
    "\n",
    "for i in range(len(y)):\n",
    "    ax.scatter3D(x[i], y[i], z[i], s=.1, label=labels[i])\n",
    "    ax.legend()\n",
    "    ax.autoscale(enable=True, axis='x', tight=False)\n",
    "    ax.autoscale(enable=True, axis='y', tight=False)\n",
    "\n",
    "plt.show()"
   ]
  },
  {
   "cell_type": "code",
   "execution_count": null,
   "metadata": {},
   "outputs": [],
   "source": [
    "fig = plt.figure(figsize=(10, 10))\n",
    "ax = fig.add_subplot(projection='3d')\n",
    "ax.set_title(\"Hemisphere Samples\")\n",
    "ax.auto_scale_xyz(x, y, z, 'equal')\n",
    "\n",
    "for i in range(len(y)):\n",
    "    ax.scatter(x[i], y[i], pdf[i], s=.1, label=labels[i])\n",
    "\n",
    "ax.legend()\n",
    "ax.autoscale(enable=True, axis='x', tight=False)\n",
    "ax.autoscale(enable=True, axis='y', tight=False)\n",
    "plt.show()"
   ]
  },
  {
   "cell_type": "markdown",
   "metadata": {},
   "source": []
  }
 ],
 "metadata": {
  "interpreter": {
   "hash": "cc5deeb396854357bbed63b676dc1e6982f4e75d7fa0aeca42cd102371def81e"
  },
  "kernelspec": {
   "display_name": "Python 3.10.4 64-bit",
   "language": "python",
   "name": "python3"
  },
  "language_info": {
   "codemirror_mode": {
    "name": "ipython",
    "version": 3
   },
   "file_extension": ".py",
   "mimetype": "text/x-python",
   "name": "python",
   "nbconvert_exporter": "python",
   "pygments_lexer": "ipython3",
   "version": "3.10.4"
  },
  "orig_nbformat": 4
 },
 "nbformat": 4,
 "nbformat_minor": 2
}
